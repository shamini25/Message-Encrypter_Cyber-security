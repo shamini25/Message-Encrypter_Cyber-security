{
  "nbformat": 4,
  "nbformat_minor": 0,
  "metadata": {
    "colab": {
      "provenance": [],
      "authorship_tag": "ABX9TyMtBat0toA0/8PRdWMzX+vx",
      "include_colab_link": true
    },
    "kernelspec": {
      "name": "python3",
      "display_name": "Python 3"
    },
    "language_info": {
      "name": "python"
    }
  },
  "cells": [
    {
      "cell_type": "markdown",
      "metadata": {
        "id": "view-in-github",
        "colab_type": "text"
      },
      "source": [
        "<a href=\"https://colab.research.google.com/github/shamini25/Message-Encrypter_Cyber-security/blob/main/Untitled0.ipynb\" target=\"_parent\"><img src=\"https://colab.research.google.com/assets/colab-badge.svg\" alt=\"Open In Colab\"/></a>"
      ]
    },
    {
      "cell_type": "code",
      "execution_count": 1,
      "metadata": {
        "colab": {
          "base_uri": "https://localhost:8080/"
        },
        "id": "b5LzAkuNXHo8",
        "outputId": "9e5204cd-5669-4748-8633-a9542f25eab0"
      },
      "outputs": [
        {
          "output_type": "stream",
          "name": "stdout",
          "text": [
            "Requirement already satisfied: pandas in /usr/local/lib/python3.11/dist-packages (2.2.2)\n",
            "Requirement already satisfied: numpy>=1.23.2 in /usr/local/lib/python3.11/dist-packages (from pandas) (1.26.4)\n",
            "Requirement already satisfied: python-dateutil>=2.8.2 in /usr/local/lib/python3.11/dist-packages (from pandas) (2.8.2)\n",
            "Requirement already satisfied: pytz>=2020.1 in /usr/local/lib/python3.11/dist-packages (from pandas) (2024.2)\n",
            "Requirement already satisfied: tzdata>=2022.7 in /usr/local/lib/python3.11/dist-packages (from pandas) (2025.1)\n",
            "Requirement already satisfied: six>=1.5 in /usr/local/lib/python3.11/dist-packages (from python-dateutil>=2.8.2->pandas) (1.17.0)\n"
          ]
        }
      ],
      "source": [
        "pip install pandas\n"
      ]
    },
    {
      "cell_type": "code",
      "source": [
        "import pandas as pd\n",
        "import datetime\n",
        "\n",
        "# Sample log data\n",
        "log_data = [\n",
        "    {\"timestamp\": \"2025-01-30 10:00:00\", \"source_ip\": \"192.168.1.1\", \"event_type\": \"login_success\", \"user\": \"admin\"},\n",
        "    {\"timestamp\": \"2025-01-30 10:05:00\", \"source_ip\": \"192.168.1.2\", \"event_type\": \"login_failure\", \"user\": \"admin\"},\n",
        "    {\"timestamp\": \"2025-01-30 10:10:00\", \"source_ip\": \"192.168.1.3\", \"event_type\": \"port_scan\", \"user\": \"N/A\"},\n",
        "    {\"timestamp\": \"2025-01-30 10:15:00\", \"source_ip\": \"192.168.1.2\", \"event_type\": \"login_failure\", \"user\": \"admin\"},\n",
        "    {\"timestamp\": \"2025-01-30 10:20:00\", \"source_ip\": \"192.168.1.2\", \"event_type\": \"login_failure\", \"user\": \"admin\"},\n",
        "]\n",
        "\n",
        "# Load log data into a DataFrame\n",
        "df = pd.DataFrame(log_data)\n",
        "\n",
        "# Convert timestamp to datetime for easier analysis\n",
        "df['timestamp'] = pd.to_datetime(df['timestamp'])\n",
        "\n",
        "# Define a simple threat detection rule\n",
        "def detect_brute_force(df):\n",
        "    \"\"\"Detect multiple failed login attempts from the same IP within 10 minutes.\"\"\"\n",
        "    brute_force_alerts = []\n",
        "\n",
        "    grouped = df[df[\"event_type\"] == \"login_failure\"].groupby(\"source_ip\")\n",
        "\n",
        "    for source_ip, group in grouped:\n",
        "        group = group.sort_values(\"timestamp\")\n",
        "        time_diff = group[\"timestamp\"].diff().dt.total_seconds()\n",
        "\n",
        "        # Check if there are 3 failures within 10 minutes\n",
        "        if len(group) >= 3 and time_diff.dropna().sum() <= 600:\n",
        "            brute_force_alerts.append(f\"Brute force attack detected from IP {source_ip}\")\n",
        "\n",
        "    return brute_force_alerts\n",
        "\n",
        "def detect_port_scanning(df):\n",
        "    \"\"\"Detect port scanning events.\"\"\"\n",
        "    port_scan_events = df[df[\"event_type\"] == \"port_scan\"]\n",
        "    alerts = [f\"Port scanning detected from IP {row['source_ip']}\" for _, row in port_scan_events.iterrows()]\n",
        "    return alerts\n",
        "\n",
        "# Analyze logs for threats\n",
        "alerts = detect_brute_force(df) + detect_port_scanning(df)\n",
        "\n",
        "# Print threat detection alerts\n",
        "if alerts:\n",
        "    print(\"Threat Detection Alerts:\")\n",
        "    for alert in alerts:\n",
        "        print(f\"  - {alert}\")\n",
        "else:\n",
        "    print(\"No threats detected.\")\n"
      ],
      "metadata": {
        "colab": {
          "base_uri": "https://localhost:8080/"
        },
        "id": "8gmOtHVcXryH",
        "outputId": "49b1b40f-a519-434d-b4a8-25bea41cc49b"
      },
      "execution_count": 2,
      "outputs": [
        {
          "output_type": "stream",
          "name": "stdout",
          "text": [
            "Threat Detection Alerts:\n",
            "  - Port scanning detected from IP 192.168.1.3\n"
          ]
        }
      ]
    }
  ]
}